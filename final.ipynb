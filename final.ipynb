{
  "cells": [
    {
      "cell_type": "markdown",
      "metadata": {
        "id": "TQggtlLF-huA"
      },
      "source": [
        "# **파이썬 프로그래밍 실무**\n",
        "\n"
      ]
    },
    {
      "cell_type": "markdown",
      "metadata": {
        "id": "OtG7xx1d_S9S"
      },
      "source": [
        "* 유의 사항  \n",
        "\n",
        "1. 문제의 답안을 함수로 작성하되, 반드시 함수 이름은 문제에서 제시하는 함수명으로 할것 (함수명이 다르면 점수 획득 불가능, 클래스 내 메소드 정의 불가, 반드시 함수로만 작성할 것)\n",
        "1. 각 문제의 답안은 답안 작성 셀에서 작성할 것\n",
        "1. 모든 문제는 함수의 매개변수 입력을 통해 데이터를 전달 받고, 결과를 반환하는 함수를 정의하는 것임 (주의: input()는 키보드 입력이며, 함수 입력이 아님, print()는 모니터에 출력하는 함수이며, 함수 반환이 아님)\n",
        "1. 문제에서 요구하는 함수 외에 다른 함수를 정의하여 문제에서 요구하는 함수내에서 호출할수 있음\n",
        "1. 함수의 입력과 반환 시 데이터 타입도 반드시 지킬것 (예: 문자열 반환이라는 문제에서는 반드시 문자열을 반환 해야함)\n",
        "1. 답안 제출은 함수가 정의된 부분만 제출하고, 나머지 코드는 지우고 제출할 것, 답안 제출시 input() 함수나 , print() 함수가 있으면 안됨\n",
        "1. 코드 작성이 끝난 파일은 개별적으로 함수를 호출해서 검수를 거쳐 정답이 맞는지 확인할 것"
      ]
    },
    {
      "cell_type": "markdown",
      "metadata": {
        "id": "G8s27iEOeMOd"
      },
      "source": [
        "# 문제 1) - 20점"
      ]
    },
    {
      "cell_type": "markdown",
      "metadata": {
        "id": "lhpvyiXLeu-1"
      },
      "source": [
        "\n",
        "<strong> 팔굽혀 펴기 세계 대회가 개최되어, 많은 이들이 참가 했다. 대회의 상황을 실시간으로 알리기 위해 다음과 같은 자료구조를 사용하여 참가자들의 기록을 관리하고 있다.</strong>\n",
        "이 자료구조에서는 팔굽혀 펴기 횟수가 많은 참가자부터 적은 참가자들을 순서대로 관리한다. 또한 새로운 참가자가 대회에 참여 했을 경우 팔굽혀 펴기 기록에 따라 적절한 위치를 찾아 데이터를 저장하게 된다.\n",
        "\n",
        "\n",
        "```\n",
        "[('John',200), ('Danial',100),('Charles',50)]\n",
        "```\n",
        "\n",
        "예를 들어,\n",
        "George 라는 사람이 팔굽혀 펴기에 새롭게 등장하여, 150개의 기록을 했을경우, \n",
        "아래와 같이 내림차순으로 저장하게 된다.\n",
        "\n",
        "\n",
        "<George 등장 후>\n",
        "\n",
        "```\n",
        "[('John',200),('George', 150), ('Danial',100),('Charles',50)]\n",
        "```\n",
        "\n",
        "\n",
        "<strong> 문제 - 위의 자료구조로 대회를 개최할 수 있도록, 새로운 참가자의 기록을 알맞은 위치에 저장하는 함수를 작성하시오. (단, 동점자가 없다고 가정)</strong>\n",
        "\n",
        "<br>\n",
        "함수의 첫번째 입력으로는 기존 자료구조 리스트, 두번째 입력으로는 참가자의 이름, 세번째 입력으로는 참가의 기록이 매개변수로 전달 됨\n",
        "\n",
        "\n",
        "* 입력(기존 기록의 리스트, 참가자 이름, 참가자 기록)  <br>\n",
        "* 반환(새로운 참가자의 기록을 저장한 리스트)\n",
        "\n",
        "다음과 같이 함수를 호출하면, 올바른 결과가 반환되어야 함\n",
        "\n",
        "\n",
        "case1)\n",
        "\n",
        "* 함수 호출\n",
        "```\n",
        "exam1([('John',200), ('Danial',100),('Charles',50)],'George',150) \n",
        "```\n",
        "\n",
        "* 결과 반환\n",
        "```\n",
        "[('John',200),('George', 150), ('Danial',100),('Charles',50)]\n",
        "```\n",
        "\n",
        "case2)\n",
        "\n",
        "* 함수 호출\n",
        "```\n",
        "exam1([('John',200), ('Danial',100),('Charles',50)], 'Kim', 10) \n",
        "```\n",
        "\n",
        "* 결과 반환\n",
        "```\n",
        "[('John',200),('Danial',100),('Charles',50),('Kim',10)]\n",
        "```\n",
        "\n",
        "\n",
        "* 함수 이름: exam1<br>      (반드시 함수 이름을 exam1로 작성할것!!)\n",
        "\n"
      ]
    },
    {
      "cell_type": "code",
      "execution_count": null,
      "metadata": {
        "id": "cb4AtnIZIGyA"
      },
      "outputs": [],
      "source": [
        "###### 1번 문제 답안 작성 셀\n",
        "def exam1():\n",
        "  \n",
        "\n"
      ]
    },
    {
      "cell_type": "markdown",
      "metadata": {
        "id": "X1GukuNA-vPR"
      },
      "source": [
        "## 문제 2) - 20점"
      ]
    },
    {
      "cell_type": "markdown",
      "metadata": {
        "id": "kK4fr_Gm5oCl"
      },
      "source": [
        "<strong> 정수로 이루어진 하나의 리스트를 함수의 입력으로 넣으면, 선택정렬로 이 리스트를 오름차순으로 정렬하는 함수가 있다.  이 함수는 선택정렬 과정에서 몇번의 데이터 교환(swap)이 수행되었는지를 계산하여 반환하는 기능을 한다.</strong>\n",
        "\n",
        "예를 들어 다음 데이터와 같은 경우, 선택 정렬을 할때, 총 2회의 데이터 교환(Swap)이 수행된다.\n",
        "\n",
        "![1](https://github.com/ykkim77/python_practice_final/blob/main/images/1.jpg?raw=1)\n",
        "![2](https://github.com/ykkim77/python_practice_final/blob/main/images/2.jpg?raw=1)\n",
        "![3](https://github.com/ykkim77/python_practice_final/blob/main/images/3.jpg?raw=1)\n",
        "![4](https://github.com/ykkim77/python_practice_final/blob/main/images/4.jpg?raw=1)\n",
        "\n",
        "\n",
        "\n",
        "<strong> 문제 - 입력으로 들어간 리스트가 선택정렬 수행과정에서 몇번의 데이터 Swap이 수행되었는지를 반환하는 함수를 작성하시오. </strong>\n",
        "\n",
        "\n",
        "\n",
        "\n",
        "* 입력(정수로 이루어진 리스트)  <br>\n",
        "* 반환(선택정렬 과정에서 수행된 Swap의 횟수를 정수로 반환)\n",
        "\n",
        "다음과 같이 함수를 호출하면, 올바른 결과가 반환되어야 함\n",
        "\n",
        "\n",
        "case1)\n",
        "\n",
        "* 함수 호출\n",
        "```\n",
        "exam2([20,12,10,15,2]) \n",
        "```\n",
        "\n",
        "* 결과 반환\n",
        "```\n",
        "2\n",
        "```\n",
        "\n",
        "case2)\n",
        "\n",
        "* 함수 호출\n",
        "```\n",
        "exam2([1,2,3]) \n",
        "```\n",
        "\n",
        "* 결과 반환\n",
        "```\n",
        "0\n",
        "```\n",
        "\n",
        "\n",
        "* 함수 이름: exam2<br>      (반드시 함수 이름을 exam2로 작성할것!!)"
      ]
    },
    {
      "cell_type": "code",
      "execution_count": 48,
      "metadata": {
        "id": "kX9xY63-5j5p",
        "outputId": "3c976f57-16ef-479d-b465-189aaeeb3851",
        "colab": {
          "base_uri": "https://localhost:8080/",
          "height": 137
        }
      },
      "outputs": [
        {
          "output_type": "error",
          "ename": "IndentationError",
          "evalue": "ignored",
          "traceback": [
            "\u001b[0;36m  File \u001b[0;32m\"<ipython-input-48-be0ec52f7b6d>\"\u001b[0;36m, line \u001b[0;32m32\u001b[0m\n\u001b[0;31m    print(count)\u001b[0m\n\u001b[0m                ^\u001b[0m\n\u001b[0;31mIndentationError\u001b[0m\u001b[0;31m:\u001b[0m unindent does not match any outer indentation level\n"
          ]
        }
      ],
      "source": [
        "#### 2번 문제 답안 작성 셀\n",
        "def counter(array):\n",
        "  \n",
        "    def sel_sort(array):\n",
        "\n",
        "      n = len(array)\n",
        "\n",
        "      for i in range(0, n - 1):\n",
        "\n",
        "          min_idx = i\n",
        "\n",
        "          for j in range(i + 1, n):\n",
        "\n",
        "              if array[j] < array[min_idx]:\n",
        "\n",
        "                  min_idx = j\n",
        "            \n",
        "              array[i], array[min_idx] = array[min_idx], array[i]\n",
        "\n",
        "      def count():\n",
        "\n",
        "          nonlocal i\n",
        "\n",
        "          i += 1\n",
        "\n",
        "          return i\n",
        "          \n",
        "      return count\n",
        "\n",
        "      c = counter()\n",
        "\n",
        "    print()"
      ]
    },
    {
      "cell_type": "code",
      "source": [
        "counter([20,12,10,15,2])"
      ],
      "metadata": {
        "id": "x3LyEnZD6oaC",
        "outputId": "4e181555-97a4-4e2a-c9df-9665f16147d9",
        "colab": {
          "base_uri": "https://localhost:8080/",
          "height": 266
        }
      },
      "execution_count": 45,
      "outputs": [
        {
          "output_type": "error",
          "ename": "NameError",
          "evalue": "ignored",
          "traceback": [
            "\u001b[0;31m---------------------------------------------------------------------------\u001b[0m",
            "\u001b[0;31mNameError\u001b[0m                                 Traceback (most recent call last)",
            "\u001b[0;32m<ipython-input-45-c9ebd52881f6>\u001b[0m in \u001b[0;36m<module>\u001b[0;34m()\u001b[0m\n\u001b[0;32m----> 1\u001b[0;31m \u001b[0mcounter\u001b[0m\u001b[0;34m(\u001b[0m\u001b[0;34m[\u001b[0m\u001b[0;36m20\u001b[0m\u001b[0;34m,\u001b[0m\u001b[0;36m12\u001b[0m\u001b[0;34m,\u001b[0m\u001b[0;36m10\u001b[0m\u001b[0;34m,\u001b[0m\u001b[0;36m15\u001b[0m\u001b[0;34m,\u001b[0m\u001b[0;36m2\u001b[0m\u001b[0;34m]\u001b[0m\u001b[0;34m)\u001b[0m\u001b[0;34m\u001b[0m\u001b[0;34m\u001b[0m\u001b[0m\n\u001b[0m",
            "\u001b[0;32m<ipython-input-44-3988a431171a>\u001b[0m in \u001b[0;36mcounter\u001b[0;34m(array)\u001b[0m\n\u001b[1;32m     30\u001b[0m       \u001b[0mc\u001b[0m \u001b[0;34m=\u001b[0m \u001b[0mcounter\u001b[0m\u001b[0;34m(\u001b[0m\u001b[0;34m)\u001b[0m\u001b[0;34m\u001b[0m\u001b[0;34m\u001b[0m\u001b[0m\n\u001b[1;32m     31\u001b[0m \u001b[0;34m\u001b[0m\u001b[0m\n\u001b[0;32m---> 32\u001b[0;31m     \u001b[0mprint\u001b[0m\u001b[0;34m(\u001b[0m\u001b[0mcount\u001b[0m\u001b[0;34m)\u001b[0m\u001b[0;34m\u001b[0m\u001b[0;34m\u001b[0m\u001b[0m\n\u001b[0m",
            "\u001b[0;31mNameError\u001b[0m: name 'count' is not defined"
          ]
        }
      ]
    },
    {
      "cell_type": "markdown",
      "metadata": {
        "id": "EnqoaId9BzIm"
      },
      "source": [
        "## 문제 3) - 20점"
      ]
    },
    {
      "cell_type": "markdown",
      "metadata": {
        "id": "smtRGTyPBqxk"
      },
      "source": [
        "<strong> 특정한 무게를 가진 보석들이 다음과 같이 4개의 종류가 있다. (금괴 6kg, 13억), (수정 4kg, 8억), (루비 3kg, 6억), (진주 5kg, 12억) </strong> <br>\n",
        "<strong> 이 보석들은 가방의 최대 수용 무게에 따라 어떤 종류의 보석들을 가방에 넣을 수 있을지 결정된다 </strong>\n",
        "\n",
        "![6](https://github.com/ykkim77/python_practice_final/blob/main/images/6.jpg?raw=1)\n",
        "\n",
        "\n",
        "<strong> 문제 - 함수의 입력으로 가방의 최대 수용 무게를 넣으면, 가방에 넣을 수 있는 보석 금액의 최대 가치를 반환하는 함수를 작성하시오.</strong>\n",
        "<br>예를 들면, 가방의 최대 수용 무게가 7kg 이었을때, 루비와 수정을 넣어 14억의 최대 가치를 얻을 수 있다.\n",
        "\n",
        "\n",
        "case1)\n",
        "\n",
        "* 함수 호출\n",
        "```\n",
        "exam3(7) \n",
        "```\n",
        "\n",
        "* 결과 반환\n",
        "```\n",
        "14\n",
        "```\n",
        "\n",
        "case2)\n",
        "\n",
        "* 함수 호출\n",
        "```\n",
        "exam3(9) \n",
        "```\n",
        "\n",
        "* 결과 반환\n",
        "```\n",
        "20\n",
        "```\n",
        "\n",
        "\n",
        "* 함수 이름: exam3<br>      (반드시 함수 이름을 exam3로 작성할것!!)\n"
      ]
    },
    {
      "cell_type": "code",
      "execution_count": null,
      "metadata": {
        "id": "FS8nRvcNG8QR"
      },
      "outputs": [],
      "source": [
        "#### 3번 문제 답안 작성 셀\n",
        "def exam3() :\n",
        "  \n"
      ]
    },
    {
      "cell_type": "markdown",
      "metadata": {
        "id": "8uQNXmPWHHGN"
      },
      "source": [
        "## 문제 4) - 20점"
      ]
    },
    {
      "cell_type": "markdown",
      "metadata": {
        "id": "PLsesGlrHyvc"
      },
      "source": [
        "<strong> 다음은 붕어빵을 만드는 기계를 나타내고, 붕어빵 틀은 총 n개의 붕어빵을 구울수 있도록 되어 있다. 그곳에는 다 구어진 붕어빵이 들어 있다. </strong> <br>\n",
        "<strong> 붕어빵을 꺼낼때, k 번째 붕어빵을 계속적으로 꺼내어, 가장 마지막에 남게되는 붕어빵이 무엇인지 구하려고 한다.  </strong>\n",
        "<strong><br> 예를 들어 n이 6이고, k 가 2일때는 2번째, 4번째, 6번째, 3번째, 1번째 붕어빵을 순서로 꺼내게 되어 가장 마지막에 남는 붕어빵은 5번째 붕어빵이 된다.  (단 k < n) </strong>\n",
        "\n",
        "\n",
        "\n",
        "\n",
        "![9](https://github.com/ykkim77/python_practice_final/blob/main/images/9.jpg?raw=1)\n",
        "\n",
        "\n",
        "<strong> 문제 - 함수의 입력으로 n과 k 값을 차례로 넣게 되면, 마지막으로 남게 되는 붕어빵의 번호를 반환하는 함수를 작성하시오.</strong>\n",
        "* 입력(n, k)  n- 붕어빵 틀의 갯수, k - 매회 k번째 붕어빵을 꺼냄  <br>\n",
        "* 반환(마지막으로 남은 붕어빵의 위치)\n",
        "\n",
        "case1)\n",
        "\n",
        "* 함수 호출\n",
        "```\n",
        "exam4(6, 2) \n",
        "```\n",
        "\n",
        "* 결과 반환\n",
        "```\n",
        "5\n",
        "```\n",
        "\n",
        "case2)\n",
        "\n",
        "* 함수 호출\n",
        "```\n",
        "exam4(6, 3) \n",
        "```\n",
        "\n",
        "* 결과 반환\n",
        "```\n",
        "1\n",
        "```\n",
        "\n",
        "case3)\n",
        "\n",
        "* 함수 호출\n",
        "```\n",
        "exam4(7, 3) \n",
        "```\n",
        "\n",
        "* 결과 반환\n",
        "```\n",
        "4\n",
        "```\n",
        "\n",
        "* 함수 이름: exam4<br>      (반드시 함수 이름을 exam4로 작성할것!!)"
      ]
    },
    {
      "cell_type": "code",
      "execution_count": null,
      "metadata": {
        "id": "71qGTeWEW14L"
      },
      "outputs": [],
      "source": [
        "#### 4번 문제 답안 작성 셀\n",
        "\n",
        "class Node() :\n",
        "\tdef __init__ (self) :\n",
        "\t\tself.data = None\n",
        "\t\tself.link = None\n",
        "\n",
        "def printNodes(start):\n",
        "\tcurrent = start\n",
        "\tif current.link == None :\n",
        "\t\treturn\n",
        "\tprint(current.data, end=' ')\n",
        "\twhile current.link != start:\n",
        "\t\tcurrent = current.link\n",
        "\t\tprint(current.data, end=' ')\n",
        "\tprint()\n",
        "\n",
        "def insertNode(findData, insertData) :\n",
        "\tglobal memory, head, current, pre\n",
        "\n",
        "\tif head.data == findData :\t\t# 첫 번째 노드 삽입\n",
        "\t\tnode = Node()\n",
        "\t\tnode.data = insertData\n",
        "\t\tnode.link = head\n",
        "\t\tlast = head\t\t# 마지막 노드를 첫 번째 노드로 우선 지정\n",
        "\t\twhile last.link != head :\t# 마지막 노드를 찾으면 반복 종료\n",
        "\t\t\tlast = last.link\t# last를 다음 노드로 변경\n",
        "\t\tlast.link = node\t\t# 마지막 노드의 링크에 새 노드 지정\n",
        "\t\thead = node\n",
        "\t\treturn\n",
        "\n",
        "\tcurrent = head\n",
        "\twhile current.link != head :\t\t# 중간 노드 삽입\n",
        "\t\tpre = current\n",
        "\t\tcurrent = current.link\n",
        "\t\tif current.data == findData :\n",
        "\t\t\tnode = Node()\n",
        "\t\t\tnode.data = insertData\n",
        "\t\t\tnode.link = current\n",
        "\t\t\tpre.link = node\n",
        "\t\t\treturn\n",
        "\n",
        "\tnode = Node()\t\t\t # 마지막 노드 삽입\n",
        "\tnode.data = insertData\n",
        "\tcurrent.link = node\n",
        "\tnode.link = head\n",
        "\n",
        "def findNode(findData) :\n",
        "\tglobal memory, head, current, pre\n",
        "\n",
        "\tcurrent = head\n",
        "\tif current.data == findData :\n",
        "\t\treturn current\n",
        "\twhile current.link != head :\n",
        "\t\tcurrent = current.link\n",
        "\t\tif current.data == findData :\n",
        "\t\t\treturn current\n",
        "\treturn Node()\t# 빈 노드 반환\n",
        "\n",
        "def deleteNode(deleteData) :\n",
        "\tglobal memory, head, current, pre\n",
        "\n",
        "\tif head.data == deleteData :         # 첫 번째 노드 삭제\n",
        "\t\tcurrent = head\n",
        "\t\thead = head.link\n",
        "\t\tdel(current)\n",
        "\t\treturn\n",
        "\n",
        "\tcurrent = head                          # 첫 번째  외 노드 삭제\n",
        "\twhile current.link != head :\n",
        "\t\tpre = current\n",
        "\t\tcurrent = current.link\n",
        "\t\tif current.data == deleteData :\n",
        "\t\t\tpre.link = current.link\n",
        "\t\t\tdel(current)\n",
        "\t\t\treturn"
      ]
    },
    {
      "cell_type": "markdown",
      "metadata": {
        "id": "ApVnFiekZWbv"
      },
      "source": [
        "## 문제5) - 20점"
      ]
    },
    {
      "cell_type": "markdown",
      "metadata": {
        "id": "AOx7f5T9ZzH8"
      },
      "source": [
        "<strong> 정렬된 데이터가 리스트에 담겨 있다. 이 리스트에서 이진 검색으로 원하는 값을 찾고자 하는데, 몇 번만에 찾을 수 있는지를 알아보고자 한다.</strong><br>\n",
        "<strong> 예를 들어, 아래의 데이터에서 4를 찾을 경우, 이진검색으로 2번의 연산횟수만에 4를 찾아 낼 수 있다.</strong><br>\n",
        "\n",
        "\n",
        "![11](https://github.com/ykkim77/python_practice_final/blob/main/images/11.jpg?raw=1)\n",
        "\n",
        "\n",
        "\n",
        "<strong> 문제 - 함수의 입력으로, 정렬된 데이터 리스트와 찾고자 하는 데이터를 차례대로 넣을 경우, 검색의 연산 횟수를 반환하는 함수를 작성하시오. (단 찾고자 하는 데이터는 반드시 리스트에 있다고 가정한다.) </strong>\n",
        "* 입력(데이터가 정렬된 리스트, 찾고자 하는 데이터)    <br>\n",
        "* 반환(연산 횟수)\n",
        "\n",
        "case1)\n",
        "\n",
        "* 함수 호출\n",
        "```\n",
        "exam5([3, 4, 5, 6, 7, 8, 9], 4) \n",
        "```\n",
        "\n",
        "* 결과 반환\n",
        "```\n",
        "2\n",
        "```\n",
        "\n",
        "case2)\n",
        "\n",
        "* 함수 호출\n",
        "```\n",
        "exam5([6, 7, 8, 9], 9) \n",
        "```\n",
        "\n",
        "* 결과 반환\n",
        "```\n",
        "3\n",
        "```\n",
        "\n",
        "\n",
        "case3)\n",
        "\n",
        "* 함수 호출\n",
        "```\n",
        "exam5([1,2,3], 2) \n",
        "```\n",
        "\n",
        "* 결과 반환\n",
        "```\n",
        "1\n",
        "```\n",
        "\n",
        "\n",
        "* 함수 이름: exam5<br>      (반드시 함수 이름을 exam5로 작성할것!!)\n",
        "\n"
      ]
    },
    {
      "cell_type": "code",
      "execution_count": null,
      "metadata": {
        "id": "N1DpVBJmIs_L"
      },
      "outputs": [],
      "source": [
        "### 5번 문제 답안 작성 셀\n",
        "def binarySearch(array, x, low, high):\n",
        "\n",
        "    if high >= low:\n",
        "\n",
        "        mid = low + (high - low)//2     # mid 설정\n",
        "\n",
        "       \n",
        "        if array[mid] == x:    # 찾고자 하는 데이터가 mid인경우\n",
        "            return mid\n",
        "\n",
        "        \n",
        "        elif array[mid] > x:        # 왼쪽 부분에서 검색\n",
        "            return binarySearch(array, x, low, mid-1)\n",
        "\n",
        "        \n",
        "        else:                      # 오른쪽 부분에서 검색\n",
        "            return binarySearch(array, x, mid + 1, high)\n",
        "\n",
        "    else:\n",
        "        return -1\n"
      ]
    }
  ],
  "metadata": {
    "colab": {
      "collapsed_sections": [],
      "name": "python-final.ipynb",
      "provenance": []
    },
    "interpreter": {
      "hash": "d9a022479d48104f838a877ceb317cbfeb74180a02cf5c3b74635300627f5263"
    },
    "kernelspec": {
      "display_name": "Python 3.9.4 64-bit",
      "language": "python",
      "name": "python3"
    },
    "language_info": {
      "codemirror_mode": {
        "name": "ipython",
        "version": 3
      },
      "file_extension": ".py",
      "mimetype": "text/x-python",
      "name": "python",
      "nbconvert_exporter": "python",
      "pygments_lexer": "ipython3",
      "version": "3.9.4"
    }
  },
  "nbformat": 4,
  "nbformat_minor": 0
}